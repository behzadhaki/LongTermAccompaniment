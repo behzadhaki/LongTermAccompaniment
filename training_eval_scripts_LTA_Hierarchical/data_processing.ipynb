{
 "cells": [
  {
   "cell_type": "code",
   "id": "6af68418f41320e4",
   "metadata": {
    "collapsed": true,
    "ExecuteTime": {
     "end_time": "2024-06-30T12:32:50.820929Z",
     "start_time": "2024-06-30T12:32:49.718971Z"
    }
   },
   "source": [
    "from bokeh.plotting import figure, show\n",
    "from bokeh.io import output_notebook\n",
    "from tqdm import tqdm\n",
    "import torch\n",
    "output_notebook()"
   ],
   "outputs": [
    {
     "data": {
      "text/html": [
       "<div class=\"bk-root\">\n",
       "        <a href=\"https://bokeh.org\" target=\"_blank\" class=\"bk-logo bk-logo-small bk-logo-notebook\"></a>\n",
       "        <span id=\"1002\">Loading BokehJS ...</span>\n",
       "    </div>\n"
      ]
     },
     "metadata": {},
     "output_type": "display_data"
    },
    {
     "data": {
      "application/javascript": "(function(root) {\n  function now() {\n    return new Date();\n  }\n\n  const force = true;\n\n  if (typeof root._bokeh_onload_callbacks === \"undefined\" || force === true) {\n    root._bokeh_onload_callbacks = [];\n    root._bokeh_is_loading = undefined;\n  }\n\nconst JS_MIME_TYPE = 'application/javascript';\n  const HTML_MIME_TYPE = 'text/html';\n  const EXEC_MIME_TYPE = 'application/vnd.bokehjs_exec.v0+json';\n  const CLASS_NAME = 'output_bokeh rendered_html';\n\n  /**\n   * Render data to the DOM node\n   */\n  function render(props, node) {\n    const script = document.createElement(\"script\");\n    node.appendChild(script);\n  }\n\n  /**\n   * Handle when an output is cleared or removed\n   */\n  function handleClearOutput(event, handle) {\n    const cell = handle.cell;\n\n    const id = cell.output_area._bokeh_element_id;\n    const server_id = cell.output_area._bokeh_server_id;\n    // Clean up Bokeh references\n    if (id != null && id in Bokeh.index) {\n      Bokeh.index[id].model.document.clear();\n      delete Bokeh.index[id];\n    }\n\n    if (server_id !== undefined) {\n      // Clean up Bokeh references\n      const cmd_clean = \"from bokeh.io.state import curstate; print(curstate().uuid_to_server['\" + server_id + \"'].get_sessions()[0].document.roots[0]._id)\";\n      cell.notebook.kernel.execute(cmd_clean, {\n        iopub: {\n          output: function(msg) {\n            const id = msg.content.text.trim();\n            if (id in Bokeh.index) {\n              Bokeh.index[id].model.document.clear();\n              delete Bokeh.index[id];\n            }\n          }\n        }\n      });\n      // Destroy server and session\n      const cmd_destroy = \"import bokeh.io.notebook as ion; ion.destroy_server('\" + server_id + \"')\";\n      cell.notebook.kernel.execute(cmd_destroy);\n    }\n  }\n\n  /**\n   * Handle when a new output is added\n   */\n  function handleAddOutput(event, handle) {\n    const output_area = handle.output_area;\n    const output = handle.output;\n\n    // limit handleAddOutput to display_data with EXEC_MIME_TYPE content only\n    if ((output.output_type != \"display_data\") || (!Object.prototype.hasOwnProperty.call(output.data, EXEC_MIME_TYPE))) {\n      return\n    }\n\n    const toinsert = output_area.element.find(\".\" + CLASS_NAME.split(' ')[0]);\n\n    if (output.metadata[EXEC_MIME_TYPE][\"id\"] !== undefined) {\n      toinsert[toinsert.length - 1].firstChild.textContent = output.data[JS_MIME_TYPE];\n      // store reference to embed id on output_area\n      output_area._bokeh_element_id = output.metadata[EXEC_MIME_TYPE][\"id\"];\n    }\n    if (output.metadata[EXEC_MIME_TYPE][\"server_id\"] !== undefined) {\n      const bk_div = document.createElement(\"div\");\n      bk_div.innerHTML = output.data[HTML_MIME_TYPE];\n      const script_attrs = bk_div.children[0].attributes;\n      for (let i = 0; i < script_attrs.length; i++) {\n        toinsert[toinsert.length - 1].firstChild.setAttribute(script_attrs[i].name, script_attrs[i].value);\n        toinsert[toinsert.length - 1].firstChild.textContent = bk_div.children[0].textContent\n      }\n      // store reference to server id on output_area\n      output_area._bokeh_server_id = output.metadata[EXEC_MIME_TYPE][\"server_id\"];\n    }\n  }\n\n  function register_renderer(events, OutputArea) {\n\n    function append_mime(data, metadata, element) {\n      // create a DOM node to render to\n      const toinsert = this.create_output_subarea(\n        metadata,\n        CLASS_NAME,\n        EXEC_MIME_TYPE\n      );\n      this.keyboard_manager.register_events(toinsert);\n      // Render to node\n      const props = {data: data, metadata: metadata[EXEC_MIME_TYPE]};\n      render(props, toinsert[toinsert.length - 1]);\n      element.append(toinsert);\n      return toinsert\n    }\n\n    /* Handle when an output is cleared or removed */\n    events.on('clear_output.CodeCell', handleClearOutput);\n    events.on('delete.Cell', handleClearOutput);\n\n    /* Handle when a new output is added */\n    events.on('output_added.OutputArea', handleAddOutput);\n\n    /**\n     * Register the mime type and append_mime function with output_area\n     */\n    OutputArea.prototype.register_mime_type(EXEC_MIME_TYPE, append_mime, {\n      /* Is output safe? */\n      safe: true,\n      /* Index of renderer in `output_area.display_order` */\n      index: 0\n    });\n  }\n\n  // register the mime type if in Jupyter Notebook environment and previously unregistered\n  if (root.Jupyter !== undefined) {\n    const events = require('base/js/events');\n    const OutputArea = require('notebook/js/outputarea').OutputArea;\n\n    if (OutputArea.prototype.mime_types().indexOf(EXEC_MIME_TYPE) == -1) {\n      register_renderer(events, OutputArea);\n    }\n  }\n  if (typeof (root._bokeh_timeout) === \"undefined\" || force === true) {\n    root._bokeh_timeout = Date.now() + 5000;\n    root._bokeh_failed_load = false;\n  }\n\n  const NB_LOAD_WARNING = {'data': {'text/html':\n     \"<div style='background-color: #fdd'>\\n\"+\n     \"<p>\\n\"+\n     \"BokehJS does not appear to have successfully loaded. If loading BokehJS from CDN, this \\n\"+\n     \"may be due to a slow or bad network connection. Possible fixes:\\n\"+\n     \"</p>\\n\"+\n     \"<ul>\\n\"+\n     \"<li>re-rerun `output_notebook()` to attempt to load from CDN again, or</li>\\n\"+\n     \"<li>use INLINE resources instead, as so:</li>\\n\"+\n     \"</ul>\\n\"+\n     \"<code>\\n\"+\n     \"from bokeh.resources import INLINE\\n\"+\n     \"output_notebook(resources=INLINE)\\n\"+\n     \"</code>\\n\"+\n     \"</div>\"}};\n\n  function display_loaded() {\n    const el = document.getElementById(\"1002\");\n    if (el != null) {\n      el.textContent = \"BokehJS is loading...\";\n    }\n    if (root.Bokeh !== undefined) {\n      if (el != null) {\n        el.textContent = \"BokehJS \" + root.Bokeh.version + \" successfully loaded.\";\n      }\n    } else if (Date.now() < root._bokeh_timeout) {\n      setTimeout(display_loaded, 100)\n    }\n  }\n\n  function run_callbacks() {\n    try {\n      root._bokeh_onload_callbacks.forEach(function(callback) {\n        if (callback != null)\n          callback();\n      });\n    } finally {\n      delete root._bokeh_onload_callbacks\n    }\n    console.debug(\"Bokeh: all callbacks have finished\");\n  }\n\n  function load_libs(css_urls, js_urls, callback) {\n    if (css_urls == null) css_urls = [];\n    if (js_urls == null) js_urls = [];\n\n    root._bokeh_onload_callbacks.push(callback);\n    if (root._bokeh_is_loading > 0) {\n      console.debug(\"Bokeh: BokehJS is being loaded, scheduling callback at\", now());\n      return null;\n    }\n    if (js_urls == null || js_urls.length === 0) {\n      run_callbacks();\n      return null;\n    }\n    console.debug(\"Bokeh: BokehJS not loaded, scheduling load and callback at\", now());\n    root._bokeh_is_loading = css_urls.length + js_urls.length;\n\n    function on_load() {\n      root._bokeh_is_loading--;\n      if (root._bokeh_is_loading === 0) {\n        console.debug(\"Bokeh: all BokehJS libraries/stylesheets loaded\");\n        run_callbacks()\n      }\n    }\n\n    function on_error(url) {\n      console.error(\"failed to load \" + url);\n    }\n\n    for (let i = 0; i < css_urls.length; i++) {\n      const url = css_urls[i];\n      const element = document.createElement(\"link\");\n      element.onload = on_load;\n      element.onerror = on_error.bind(null, url);\n      element.rel = \"stylesheet\";\n      element.type = \"text/css\";\n      element.href = url;\n      console.debug(\"Bokeh: injecting link tag for BokehJS stylesheet: \", url);\n      document.body.appendChild(element);\n    }\n\n    for (let i = 0; i < js_urls.length; i++) {\n      const url = js_urls[i];\n      const element = document.createElement('script');\n      element.onload = on_load;\n      element.onerror = on_error.bind(null, url);\n      element.async = false;\n      element.src = url;\n      console.debug(\"Bokeh: injecting script tag for BokehJS library: \", url);\n      document.head.appendChild(element);\n    }\n  };\n\n  function inject_raw_css(css) {\n    const element = document.createElement(\"style\");\n    element.appendChild(document.createTextNode(css));\n    document.body.appendChild(element);\n  }\n\n  const js_urls = [\"https://cdn.bokeh.org/bokeh/release/bokeh-2.4.3.min.js\", \"https://cdn.bokeh.org/bokeh/release/bokeh-gl-2.4.3.min.js\", \"https://cdn.bokeh.org/bokeh/release/bokeh-widgets-2.4.3.min.js\", \"https://cdn.bokeh.org/bokeh/release/bokeh-tables-2.4.3.min.js\", \"https://cdn.bokeh.org/bokeh/release/bokeh-mathjax-2.4.3.min.js\"];\n  const css_urls = [];\n\n  const inline_js = [    function(Bokeh) {\n      Bokeh.set_log_level(\"info\");\n    },\nfunction(Bokeh) {\n    }\n  ];\n\n  function run_inline_js() {\n    if (root.Bokeh !== undefined || force === true) {\n          for (let i = 0; i < inline_js.length; i++) {\n      inline_js[i].call(root, root.Bokeh);\n    }\nif (force === true) {\n        display_loaded();\n      }} else if (Date.now() < root._bokeh_timeout) {\n      setTimeout(run_inline_js, 100);\n    } else if (!root._bokeh_failed_load) {\n      console.log(\"Bokeh: BokehJS failed to load within specified timeout.\");\n      root._bokeh_failed_load = true;\n    } else if (force !== true) {\n      const cell = $(document.getElementById(\"1002\")).parents('.cell').data().cell;\n      cell.output_area.append_execute_result(NB_LOAD_WARNING)\n    }\n  }\n\n  if (root._bokeh_is_loading === 0) {\n    console.debug(\"Bokeh: BokehJS loaded, going straight to plotting\");\n    run_inline_js();\n  } else {\n    load_libs(css_urls, js_urls, function() {\n      console.debug(\"Bokeh: BokehJS plotting callback run at\", now());\n      run_inline_js();\n    });\n  }\n}(window));",
      "application/vnd.bokehjs_load.v0+json": "(function(root) {\n  function now() {\n    return new Date();\n  }\n\n  const force = true;\n\n  if (typeof root._bokeh_onload_callbacks === \"undefined\" || force === true) {\n    root._bokeh_onload_callbacks = [];\n    root._bokeh_is_loading = undefined;\n  }\n\n\n  if (typeof (root._bokeh_timeout) === \"undefined\" || force === true) {\n    root._bokeh_timeout = Date.now() + 5000;\n    root._bokeh_failed_load = false;\n  }\n\n  const NB_LOAD_WARNING = {'data': {'text/html':\n     \"<div style='background-color: #fdd'>\\n\"+\n     \"<p>\\n\"+\n     \"BokehJS does not appear to have successfully loaded. If loading BokehJS from CDN, this \\n\"+\n     \"may be due to a slow or bad network connection. Possible fixes:\\n\"+\n     \"</p>\\n\"+\n     \"<ul>\\n\"+\n     \"<li>re-rerun `output_notebook()` to attempt to load from CDN again, or</li>\\n\"+\n     \"<li>use INLINE resources instead, as so:</li>\\n\"+\n     \"</ul>\\n\"+\n     \"<code>\\n\"+\n     \"from bokeh.resources import INLINE\\n\"+\n     \"output_notebook(resources=INLINE)\\n\"+\n     \"</code>\\n\"+\n     \"</div>\"}};\n\n  function display_loaded() {\n    const el = document.getElementById(\"1002\");\n    if (el != null) {\n      el.textContent = \"BokehJS is loading...\";\n    }\n    if (root.Bokeh !== undefined) {\n      if (el != null) {\n        el.textContent = \"BokehJS \" + root.Bokeh.version + \" successfully loaded.\";\n      }\n    } else if (Date.now() < root._bokeh_timeout) {\n      setTimeout(display_loaded, 100)\n    }\n  }\n\n  function run_callbacks() {\n    try {\n      root._bokeh_onload_callbacks.forEach(function(callback) {\n        if (callback != null)\n          callback();\n      });\n    } finally {\n      delete root._bokeh_onload_callbacks\n    }\n    console.debug(\"Bokeh: all callbacks have finished\");\n  }\n\n  function load_libs(css_urls, js_urls, callback) {\n    if (css_urls == null) css_urls = [];\n    if (js_urls == null) js_urls = [];\n\n    root._bokeh_onload_callbacks.push(callback);\n    if (root._bokeh_is_loading > 0) {\n      console.debug(\"Bokeh: BokehJS is being loaded, scheduling callback at\", now());\n      return null;\n    }\n    if (js_urls == null || js_urls.length === 0) {\n      run_callbacks();\n      return null;\n    }\n    console.debug(\"Bokeh: BokehJS not loaded, scheduling load and callback at\", now());\n    root._bokeh_is_loading = css_urls.length + js_urls.length;\n\n    function on_load() {\n      root._bokeh_is_loading--;\n      if (root._bokeh_is_loading === 0) {\n        console.debug(\"Bokeh: all BokehJS libraries/stylesheets loaded\");\n        run_callbacks()\n      }\n    }\n\n    function on_error(url) {\n      console.error(\"failed to load \" + url);\n    }\n\n    for (let i = 0; i < css_urls.length; i++) {\n      const url = css_urls[i];\n      const element = document.createElement(\"link\");\n      element.onload = on_load;\n      element.onerror = on_error.bind(null, url);\n      element.rel = \"stylesheet\";\n      element.type = \"text/css\";\n      element.href = url;\n      console.debug(\"Bokeh: injecting link tag for BokehJS stylesheet: \", url);\n      document.body.appendChild(element);\n    }\n\n    for (let i = 0; i < js_urls.length; i++) {\n      const url = js_urls[i];\n      const element = document.createElement('script');\n      element.onload = on_load;\n      element.onerror = on_error.bind(null, url);\n      element.async = false;\n      element.src = url;\n      console.debug(\"Bokeh: injecting script tag for BokehJS library: \", url);\n      document.head.appendChild(element);\n    }\n  };\n\n  function inject_raw_css(css) {\n    const element = document.createElement(\"style\");\n    element.appendChild(document.createTextNode(css));\n    document.body.appendChild(element);\n  }\n\n  const js_urls = [\"https://cdn.bokeh.org/bokeh/release/bokeh-2.4.3.min.js\", \"https://cdn.bokeh.org/bokeh/release/bokeh-gl-2.4.3.min.js\", \"https://cdn.bokeh.org/bokeh/release/bokeh-widgets-2.4.3.min.js\", \"https://cdn.bokeh.org/bokeh/release/bokeh-tables-2.4.3.min.js\", \"https://cdn.bokeh.org/bokeh/release/bokeh-mathjax-2.4.3.min.js\"];\n  const css_urls = [];\n\n  const inline_js = [    function(Bokeh) {\n      Bokeh.set_log_level(\"info\");\n    },\nfunction(Bokeh) {\n    }\n  ];\n\n  function run_inline_js() {\n    if (root.Bokeh !== undefined || force === true) {\n          for (let i = 0; i < inline_js.length; i++) {\n      inline_js[i].call(root, root.Bokeh);\n    }\nif (force === true) {\n        display_loaded();\n      }} else if (Date.now() < root._bokeh_timeout) {\n      setTimeout(run_inline_js, 100);\n    } else if (!root._bokeh_failed_load) {\n      console.log(\"Bokeh: BokehJS failed to load within specified timeout.\");\n      root._bokeh_failed_load = true;\n    } else if (force !== true) {\n      const cell = $(document.getElementById(\"1002\")).parents('.cell').data().cell;\n      cell.output_area.append_execute_result(NB_LOAD_WARNING)\n    }\n  }\n\n  if (root._bokeh_is_loading === 0) {\n    console.debug(\"Bokeh: BokehJS loaded, going straight to plotting\");\n    run_inline_js();\n  } else {\n    load_libs(css_urls, js_urls, function() {\n      console.debug(\"Bokeh: BokehJS plotting callback run at\", now());\n      run_inline_js();\n    });\n  }\n}(window));"
     },
     "metadata": {},
     "output_type": "display_data"
    }
   ],
   "execution_count": 1
  },
  {
   "metadata": {
    "ExecuteTime": {
     "end_time": "2024-06-30T12:32:50.823701Z",
     "start_time": "2024-06-30T12:32:50.821760Z"
    }
   },
   "cell_type": "code",
   "source": [
    "input_bars = 32\n",
    "hop_n_bars = 1\n",
    "move_all_to_cuda = False"
   ],
   "id": "43046f0f5583c26d",
   "outputs": [],
   "execution_count": 2
  },
  {
   "metadata": {
    "ExecuteTime": {
     "end_time": "2024-06-30T12:32:55.071504Z",
     "start_time": "2024-06-30T12:32:50.824996Z"
    }
   },
   "cell_type": "code",
   "source": [
    "import bz2, pickle\n",
    "import numpy as np\n",
    "\n",
    "path1 = 'data/lmd/data_bass_groove_train.bz2'\n",
    "with bz2.BZ2File(path1, 'rb') as f:\n",
    "    instrument1s = pickle.load(f)\n",
    "\n",
    "path2 = 'data/lmd/data_drums_full_unsplit.bz2'\n",
    "with bz2.BZ2File(path2, 'rb') as f:\n",
    "    instrument2s = pickle.load(f)\n",
    "\n",
    "song_ids_all = list(set(instrument1s.keys()) & set(instrument2s.keys()))\n",
    "song_ids_ = []\n",
    "\n",
    "for song_id in song_ids_all:\n",
    "    i1 = instrument1s[song_id]\n",
    "    i2 = instrument2s[song_id]\n",
    "    # if i1.hvo.shape[0] == i2.hvo.shape[0]:\n",
    "    #     song_ids.append(song_id)\n",
    "    \n",
    "    if len(i1.time_signatures) == 1 and len(i2.time_signatures) == 1:\n",
    "        if i1.time_signatures[0].numerator == i2.time_signatures[0].numerator and i1.time_signatures[0].denominator == i2.time_signatures[0].denominator:\n",
    "            if i1.time_signatures[0].numerator == 4 and i1.time_signatures[0].denominator == 4:\n",
    "                \n",
    "                song_ids_.append(song_id)\n",
    "\n",
    "# split\n",
    "from sklearn.model_selection import train_test_split\n",
    "\n",
    "song_ids_train, song_ids_test = train_test_split(song_ids_, test_size=0.2, random_state=42)\n"
   ],
   "id": "cc7e07c258dbb731",
   "outputs": [],
   "execution_count": 3
  },
  {
   "metadata": {
    "ExecuteTime": {
     "end_time": "2024-06-30T12:32:55.082427Z",
     "start_time": "2024-06-30T12:32:55.072553Z"
    }
   },
   "cell_type": "code",
   "source": [
    "\n",
    "def extract_data(song_ids, instrument1s, instrument2s, input_bars, hop_n_bars, input_has_velocity, input_has_offset):\n",
    "    '''\n",
    "    Splits the paired Lakh data into input and output segments for the LTA model \n",
    "    :param song_ids:        List of song ids to extract data from\n",
    "    :param instrument1s:    Dictionary of instrument 1 data\n",
    "    :param instrument2s:    Dictionary of instrument 2 data\n",
    "    :param input_bars:      Number of bars to use as input\n",
    "    :param hop_n_bars:      Number of bars to move forward for the next input\n",
    "    :return:               Tuple of torch tensors containing the input and output data\n",
    "        - previous_input_bars:                 Tensor of shape (n_segments, input_bars * 16, n_features)\n",
    "        - upcoming_input_2_bars:               Tensor of shape (n_segments, 2 * 16, n_features)\n",
    "        - previous_stacked_input_output_bars:  Tensor of shape (n_segments, input_bars * 16, 2 * n_features)\n",
    "        - upcoming_stacked_input_output_2_bars:Tensor of shape (n_segments, 2 * 16, 2 * n_features)\n",
    "        - previous_output_bars:                Tensor of shape (n_segments, input_bars * 16, n_features)\n",
    "        - upcoming_output_2_bars:              Tensor of shape (n_segments, 2 * 16, n_features)\n",
    "    '''\n",
    "    \n",
    "    i1_hvos = []\n",
    "    i2_hvos = []\n",
    "    \n",
    "    # seg_len must be input_bars * 16 + 32\n",
    "    seg_len = input_bars * 16 + 32\n",
    "    \n",
    "    # break into bars\n",
    "    for song_id in tqdm(song_ids):\n",
    "        i1 = instrument1s[song_id]\n",
    "        i2 = instrument2s[song_id]\n",
    "        \n",
    "        n_steps = max(i1.hvo.shape[0], i2.hvo.shape[0], input_bars * 16)\n",
    "        \n",
    "        i1.adjust_length(n_steps)\n",
    "        i2.adjust_length(n_steps)\n",
    "        \n",
    "        if i1.hvo.shape[0] != i2.hvo.shape[0]:\n",
    "            print(i1.hvo.shape, i2.hvo.shape)\n",
    "            raise ValueError('Shapes do not match')\n",
    "        \n",
    "        n_bars = n_steps // 16\n",
    "        \n",
    "        for i in range(0, n_bars - input_bars + 1, hop_n_bars):\n",
    "            seg1 = i1.hvo[i*16:(i+input_bars+2)*16]\n",
    "            seg2 = i2.hvo[i*16:(i+input_bars+2)*16]\n",
    "            \n",
    "            if seg1.shape[0] != seg_len:\n",
    "                # zero pad\n",
    "                seg1 = np.vstack([seg1, np.zeros((seg_len - seg1.shape[0], seg1.shape[1]))])\n",
    "                seg2 = np.vstack([seg2, np.zeros((seg_len - seg2.shape[0], seg2.shape[1]))])\n",
    "    \n",
    "            i1_hvos.append(seg1)\n",
    "            i2_hvos.append(seg2)\n",
    "        \n",
    "    previous_input_bars = []\n",
    "    upcoming_input_2_bars = []\n",
    "    previous_stacked_input_output_bars = []\n",
    "    upcoming_stacked_input_output_2_bars = []\n",
    "    previous_output_bars = []\n",
    "    upcoming_output_2_bars = []\n",
    "    \n",
    "    for i1_hvo, i2_hvo in tqdm(zip(i1_hvos, i2_hvos)):\n",
    "        assert i1_hvo.shape[0] == i2_hvo.shape[0]\n",
    "        \n",
    "        n_steps = i1_hvo.shape[0]\n",
    "    \n",
    "        n_voices_1 = i1_hvo.shape[-1] // 3\n",
    "        n_voices_2 = i2_hvo.shape[-1] // 3\n",
    "        h1 = i1_hvo[:, :n_voices_1]\n",
    "        v1 = i1_hvo[:, n_voices_1:2*n_voices_1]\n",
    "        o1 = i1_hvo[:, 2*n_voices_1:]\n",
    "        h2 = i2_hvo[:, :n_voices_2]\n",
    "        v2 = i2_hvo[:, n_voices_2:2*n_voices_2]\n",
    "        o2 = i2_hvo[:, 2*n_voices_2:]\n",
    "        \n",
    "        if input_has_velocity and input_has_offset:\n",
    "            hvo1 = torch.tensor(np.hstack([h1, v1, o1]), dtype=torch.float32)\n",
    "        elif input_has_offset:\n",
    "            hvo1 = torch.tensor(np.hstack([h1, o1]), dtype=torch.float32)\n",
    "        elif input_has_velocity:\n",
    "            hvo1 = torch.tensor(np.hstack([h1, v1]), dtype=torch.float32)\n",
    "        else:\n",
    "            hvo1 = torch.tensor(np.hstack([h1]), dtype=torch.float32)\n",
    "    \n",
    "        hvo2 = torch.tensor(np.hstack([h2, v2, o2]), dtype=torch.float32)\n",
    "        \n",
    "        # add inputs \n",
    "        previous_input_bars.append(hvo1[:-32])\n",
    "        upcoming_input_2_bars.append(hvo1[-32:])\n",
    "        \n",
    "        # add outputs        \n",
    "        previous_output_bars.append(hvo2[:-32])\n",
    "        upcoming_output_2_bars.append(hvo2[-32:])\n",
    "        \n",
    "        # add stacked inputs and outputs\n",
    "        if input_has_velocity and input_has_offset:\n",
    "            i12 = torch.tensor(np.hstack([h1, h2, v1, v2, o1, o2]), dtype=torch.float32)\n",
    "        elif input_has_offset:\n",
    "            i12 = torch.tensor(np.hstack([h1, h2, o1, o2]), dtype=torch.float32)\n",
    "        elif input_has_velocity:\n",
    "            i12 = torch.tensor(np.hstack([h1, h2, v1, v2]), dtype=torch.float32)\n",
    "        else:\n",
    "            i12 = torch.tensor(np.hstack([h1, h2]), dtype=torch.float32)\n",
    "        \n",
    "        previous_stacked_input_output_bars.append(i12[:-32])\n",
    "        upcoming_stacked_input_output_2_bars.append(i12[-32:])\n",
    "        \n",
    "    \n",
    "    # convert to torch tensors\n",
    "    previous_input_bars = torch.vstack([x.unsqueeze(0) for x in previous_input_bars])\n",
    "    upcoming_input_2_bars = torch.vstack([x.unsqueeze(0) for x in upcoming_input_2_bars])\n",
    "    previous_stacked_input_output_bars = torch.vstack([x.unsqueeze(0) for x in previous_stacked_input_output_bars])\n",
    "    upcoming_stacked_input_output_2_bars = torch.vstack([x.unsqueeze(0) for x in upcoming_stacked_input_output_2_bars])\n",
    "    previous_output_bars = torch.vstack([x.unsqueeze(0) for x in previous_output_bars])\n",
    "    upcoming_output_2_bars = torch.vstack([x.unsqueeze(0) for x in upcoming_output_2_bars])\n",
    "    \n",
    "    return previous_input_bars, upcoming_input_2_bars, previous_stacked_input_output_bars, upcoming_stacked_input_output_2_bars, previous_output_bars, upcoming_output_2_bars\n"
   ],
   "id": "de71f0fc0db9347a",
   "outputs": [],
   "execution_count": 4
  },
  {
   "metadata": {
    "ExecuteTime": {
     "end_time": "2024-06-30T12:33:35.008521Z",
     "start_time": "2024-06-30T12:33:05.910156Z"
    }
   },
   "cell_type": "code",
   "source": "previous_input_bars, upcoming_input_2_bars, previous_stacked_input_output_bars, upcoming_stacked_input_output_2_bars, previous_output_bars, upcoming_output_2_bars = extract_data(song_ids_train, instrument1s, instrument2s, input_bars, hop_n_bars)",
   "id": "9d75ff12f3df64ee",
   "outputs": [
    {
     "name": "stderr",
     "output_type": "stream",
     "text": [
      "100%|██████████| 992/992 [00:11<00:00, 85.14it/s]\n",
      "78878it [00:08, 9178.43it/s] \n"
     ]
    }
   ],
   "execution_count": 6
  },
  {
   "metadata": {
    "ExecuteTime": {
     "end_time": "2024-06-30T12:33:48.832112Z",
     "start_time": "2024-06-30T12:33:48.827563Z"
    }
   },
   "cell_type": "code",
   "source": "previous_input_bars.shape, upcoming_input_2_bars.shape, previous_stacked_input_output_bars.shape, upcoming_stacked_input_output_2_bars.shape, previous_output_bars.shape, upcoming_output_2_bars.shape",
   "id": "f727851624ac2e4b",
   "outputs": [
    {
     "data": {
      "text/plain": [
       "(torch.Size([78878, 512, 3]),\n",
       " torch.Size([78878, 32, 3]),\n",
       " torch.Size([78878, 512, 30]),\n",
       " torch.Size([78878, 32, 30]),\n",
       " torch.Size([78878, 512, 27]),\n",
       " torch.Size([78878, 32, 27]))"
      ]
     },
     "execution_count": 7,
     "metadata": {},
     "output_type": "execute_result"
    }
   ],
   "execution_count": 7
  },
  {
   "metadata": {},
   "cell_type": "code",
   "outputs": [],
   "execution_count": null,
   "source": "",
   "id": "87b07efa5f69ab96"
  }
 ],
 "metadata": {
  "kernelspec": {
   "display_name": "GrooveTransformer",
   "language": "python",
   "name": "groovetransformer"
  },
  "language_info": {
   "codemirror_mode": {
    "name": "ipython",
    "version": 2
   },
   "file_extension": ".py",
   "mimetype": "text/x-python",
   "name": "python",
   "nbconvert_exporter": "python",
   "pygments_lexer": "ipython2",
   "version": "2.7.6"
  }
 },
 "nbformat": 4,
 "nbformat_minor": 5
}
