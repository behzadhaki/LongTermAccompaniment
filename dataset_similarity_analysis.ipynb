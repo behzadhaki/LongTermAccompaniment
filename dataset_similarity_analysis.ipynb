{
 "cells": [
  {
   "metadata": {
    "ExecuteTime": {
     "end_time": "2024-07-04T14:11:15.631289Z",
     "start_time": "2024-07-04T14:11:15.628571Z"
    }
   },
   "cell_type": "code",
   "source": [
    "from model.LongTermAccompaniment import LongTermAccompaniment\n",
    "from model import load_model\n",
    "import torch\n",
    "from hvo_sequence.hvo_seq import HVO_Sequence\n",
    "from hvo_sequence.drum_mappings import ROLAND_REDUCED_MAPPING\n",
    "from bokeh.plotting import show, output_notebook\n",
    "\n",
    "\n",
    "# "
   ],
   "id": "9ff7c63bccb468fa",
   "outputs": [],
   "execution_count": 27
  },
  {
   "metadata": {
    "ExecuteTime": {
     "end_time": "2024-07-04T14:11:23.491285Z",
     "start_time": "2024-07-04T14:11:15.632721Z"
    }
   },
   "cell_type": "code",
   "source": [
    "# load data\n",
    "\n",
    "from data import PairedLTADataset\n",
    "\n",
    "test_dataset = PairedLTADataset(\n",
    "        input_inst_dataset_bz2_filepath=\"data/lmd/data_bass_groove_test.bz2\",\n",
    "        output_inst_dataset_bz2_filepath=\"data/lmd/data_drums_full_unsplit.bz2\",\n",
    "        shift_tgt_by_n_steps=1,\n",
    "        max_input_bars=32,\n",
    "        continuation_bars=2,\n",
    "        hop_n_bars=2,\n",
    "        input_has_velocity=True,\n",
    "        input_has_offsets=True\n",
    "    )\n",
    "\n",
    "test_dataset.__len__()"
   ],
   "id": "de0bc62350c0ec1d",
   "outputs": [
    {
     "name": "stderr",
     "output_type": "stream",
     "text": [
      "INFO:data.Base.dataLoaders:PairedLTADatasetV2 Constructor --> Loading Cached Version from: cached/TorchDatasets/PairedLTADataset_data_bass_groove_test.bz2_data_drums_full_unsplit.bz2_32_2_True_True_1.bz2pickle\n"
     ]
    },
    {
     "data": {
      "text/plain": [
       "14766"
      ]
     },
     "execution_count": 28,
     "metadata": {},
     "output_type": "execute_result"
    }
   ],
   "execution_count": 28
  },
  {
   "metadata": {
    "ExecuteTime": {
     "end_time": "2024-07-04T14:15:35.026041Z",
     "start_time": "2024-07-04T14:11:23.493266Z"
    }
   },
   "cell_type": "code",
   "source": [
    "from tqdm import tqdm\n",
    "\n",
    "def calculate_jaccard(seg1, seg2):\n",
    "    val = torch.sum(seg1 * seg2) / torch.sum(torch.clip_(seg1 + seg2, 0, 1)).item()\n",
    "    # set to zero if nan\n",
    "    return 0 if torch.isnan(val) else val\n",
    "\n",
    "def calculate_mse(seg1, seg2):\n",
    "    return 1-torch.functional.F.mse_loss(seg1, seg2).item()\n",
    "\n",
    "def extract_segs(hvo):\n",
    "    segs = []\n",
    "    bars = hvo.shape[0] // 32\n",
    "    for i in range(bars):\n",
    "        segs.append(hvo[i*32:(i+1)*32,: ])\n",
    "    return segs\n",
    "\n",
    "def cross_similarity_heat_map(segs):\n",
    "    corr_h = torch.zeros((len(segs), len(segs)))\n",
    "    corr_v = torch.zeros((len(segs), len(segs)))\n",
    "    corr = torch.zeros((len(segs), len(segs)))\n",
    "    for i in range(len(segs)):\n",
    "        for j in range(len(segs)):\n",
    "            if i!=j:\n",
    "                h1 = segs[i][:, 0:1] if segs[i].shape[-1] == 3 else segs[i][:, 0:9]\n",
    "                h2 = segs[j][:, 0:1] if segs[j].shape[-1] == 3 else segs[j][:, 0:9]\n",
    "                v1 = segs[i][:, 1:2] if segs[i].shape[-1] == 3 else segs[i][:, 9:18]\n",
    "                v2 = segs[j][:, 1:2] if segs[j].shape[-1] == 3 else segs[j][:, 9:18]\n",
    "                corr_h[i, j] = calculate_jaccard(h1, h2)\n",
    "                corr_v[i, j] = calculate_mse(v1, v2)\n",
    "                corr[i, j] = (corr_h[i, j] * corr_v[i, j]) \n",
    "    total_corr = torch.sum(corr, dim=1)\n",
    "    normalized_total_corr = total_corr / torch.sum(total_corr)\n",
    "    average_corr = torch.mean(total_corr)\n",
    "    return corr, normalized_total_corr, average_corr\n",
    "\n",
    "def calc_cross_sims(hvos):\n",
    "    segs = [extract_segs(hvo) for hvo in hvos]\n",
    "    sims = []\n",
    "    ncs = []\n",
    "    tot_corrs = []\n",
    "    for i in tqdm(range(len(segs)), desc=\"Calculating similarities\", total=len(segs)):\n",
    "        sim, nc, tot_corr = cross_similarity_heat_map(segs[i])\n",
    "        sims.append(sim)\n",
    "        ncs.append(nc)\n",
    "        tot_corrs.append(tot_corr)\n",
    "        \n",
    "    # normalize total correlations\n",
    "    tot_corrs = torch.tensor(tot_corrs)\n",
    "    tot_corrs = (tot_corrs) / (torch.max(tot_corrs))\n",
    "    \n",
    "    return sims, ncs, tot_corrs\n",
    "\n",
    "sims, ncs, tot_corrs = calc_cross_sims(test_dataset.instrument1_hvos)\n"
   ],
   "id": "e8b5a9084719a8c4",
   "outputs": [
    {
     "name": "stderr",
     "output_type": "stream",
     "text": [
      "Calculating similarities: 100%|██████████| 14766/14766 [04:10<00:00, 58.87it/s]\n"
     ]
    }
   ],
   "execution_count": 29
  },
  {
   "metadata": {
    "ExecuteTime": {
     "end_time": "2024-07-05T03:43:45.916812Z",
     "start_time": "2024-07-05T03:43:45.535054Z"
    }
   },
   "cell_type": "code",
   "source": [
    "# plot a heatmap with corr of 0.1\n",
    "import matplotlib.pyplot as plt\n",
    "import seaborn as sns\n",
    "\n",
    "# find closest index to 0.1\n",
    "min_diff = 1\n",
    "min_diff_idx = 0\n",
    "tgt_corr = 0.16 + (0.1 * torch.rand(1))\n",
    "for i in range(len(tot_corrs)):\n",
    "    diff = abs(tot_corrs[i] - tgt_corr)\n",
    "    if diff < min_diff:\n",
    "        min_diff = diff\n",
    "        min_diff_idx = i\n",
    "\n",
    "# plot the heatmap\n",
    "sns.heatmap(sims[min_diff_idx], cmap=\"viridis\", vmin=0, vmax=1)\n",
    "# set colorbar to show 0 to 1\n",
    "# ...\n",
    "plt.show()\n",
    "\n",
    "upper_tri = torch.triu(sims[min_diff_idx], diagonal=1)\n",
    "indices = torch.triu_indices(row=upper_tri.shape[0], col=upper_tri.shape[1], offset=1)\n",
    "vals = sims[min_diff_idx][indices[0], indices[1]]\n",
    "# plot histogram of vals\n",
    "plt.hist(vals, bins=10, range=(0, 1),density=False)\n",
    "plt.show()\n",
    "\n",
    "min_diff_idx, tot_corrs[min_diff_idx]"
   ],
   "id": "182ce13c68d05f27",
   "outputs": [
    {
     "name": "stderr",
     "output_type": "stream",
     "text": [
      "DEBUG:matplotlib.colorbar:locator: <matplotlib.ticker.AutoLocator object at 0x7f53f1ab68b0>\n"
     ]
    },
    {
     "data": {
      "text/plain": [
       "<Figure size 640x480 with 2 Axes>"
      ],
      "image/png": "[encoded data removed]"
     },
     "metadata": {},
     "output_type": "display_data"
    },
    {
     "data": {
      "text/plain": [
       "<Figure size 640x480 with 1 Axes>"
      ],
      "image/png": "[encoded data removed]"
     },
     "metadata": {},
     "output_type": "display_data"
    },
    {
     "data": {
      "text/plain": [
       "(12576, tensor(0.1957))"
      ]
     },
     "execution_count": 462,
     "metadata": {},
     "output_type": "execute_result"
    }
   ],
   "execution_count": 462
  },
  {
   "metadata": {
    "ExecuteTime": {
     "end_time": "2024-07-05T03:43:07.033494Z",
     "start_time": "2024-07-05T03:43:06.815800Z"
    }
   },
   "cell_type": "code",
   "source": [
    "\n",
    "# plot a heatmap with corr of 0.1\n",
    "import matplotlib.pyplot as plt\n",
    "import seaborn as sns\n",
    "\n",
    "# find closest index to 0.1\n",
    "min_diff = 1\n",
    "min_diff_idx = 0\n",
    "tgt_corr = 0.3\n",
    "\n",
    "\n",
    "diffs = tot_corrs - tgt_corr\n",
    "# randomly grab 1 with a tolerance of 0.01\n",
    "min_diff_idx = torch.where(torch.abs(diffs) < 0.01)\n",
    "ix = torch.randint(0, len(min_diff_idx[0]), (1,))\n",
    "min_diff_idx = min_diff_idx[0][ix]\n",
    "\n",
    "print(ix)\n",
    "\n",
    "\n",
    "# plot the heatmap\n",
    "sns.heatmap(sims[min_diff_idx], cmap=\"viridis\", vmin=0, vmax=1)\n",
    "plt.show()\n",
    "\n",
    "min_diff_idx, tot_corrs[min_diff_idx]"
   ],
   "id": "5a45d80f7274c4c7",
   "outputs": [
    {
     "name": "stderr",
     "output_type": "stream",
     "text": [
      "DEBUG:matplotlib.colorbar:locator: <matplotlib.ticker.AutoLocator object at 0x7f53f3a537c0>\n"
     ]
    },
    {
     "name": "stdout",
     "output_type": "stream",
     "text": [
      "tensor([121])\n"
     ]
    },
    {
     "data": {
      "text/plain": [
       "<Figure size 640x480 with 2 Axes>"
      ],
      "image/png": "[encoded data removed]"
     },
     "metadata": {},
     "output_type": "display_data"
    },
    {
     "data": {
      "text/plain": [
       "(tensor([4737]), tensor([0.2907]))"
      ]
     },
     "execution_count": 437,
     "metadata": {},
     "output_type": "execute_result"
    }
   ],
   "execution_count": 437
  },
  {
   "metadata": {
    "ExecuteTime": {
     "end_time": "2024-07-05T03:43:04.651410Z",
     "start_time": "2024-07-05T03:43:04.648394Z"
    }
   },
   "cell_type": "code",
   "source": "ncs[0]",
   "id": "c0edfa44fd56a770",
   "outputs": [
    {
     "data": {
      "text/plain": [
       "tensor([0.0156, 0.0274, 0.0561, 0.0639, 0.0645, 0.0658, 0.0615, 0.0673, 0.0645,\n",
       "        0.0673, 0.0658, 0.0643, 0.0616, 0.0641, 0.0611, 0.0671, 0.0620])"
      ]
     },
     "execution_count": 436,
     "metadata": {},
     "output_type": "execute_result"
    }
   ],
   "execution_count": 436
  },
  {
   "metadata": {
    "ExecuteTime": {
     "end_time": "2024-07-05T03:31:01.376548Z",
     "start_time": "2024-07-05T03:31:01.369694Z"
    }
   },
   "cell_type": "code",
   "source": [
    "# count zeros in the heatmap \n",
    "super_sim = torch.sum((sims[10]) >= 0.9) - sims[0].shape[0]\n",
    "\n",
    "# count super sims in upper triangle\n",
    "upper_tri = torch.triu(sims[10], diagonal=1)\n",
    "n_seg_pairs = torch.triu(torch.ones_like(sims[10]), diagonal=1).sum()\n",
    "super_sim_upper = torch.sum(upper_tri >= 0.7) / n_seg_pairs\n",
    "low_sim_upper = torch.sum(upper_tri <= 0.3) / n_seg_pairs\n",
    "\n",
    "# create upper triangle mask\n",
    "super_sim_upper, low_sim_upper"
   ],
   "id": "e229a6f45c405871",
   "outputs": [
    {
     "data": {
      "text/plain": [
       "(tensor(0.4412), tensor(1.1250))"
      ]
     },
     "execution_count": 347,
     "metadata": {},
     "output_type": "execute_result"
    }
   ],
   "execution_count": 347
  },
  {
   "metadata": {
    "ExecuteTime": {
     "end_time": "2024-07-05T03:31:01.571691Z",
     "start_time": "2024-07-05T03:31:01.569907Z"
    }
   },
   "cell_type": "code",
   "source": "",
   "id": "46ea71df2eb25e22",
   "outputs": [],
   "execution_count": 347
  },
  {
   "metadata": {},
   "cell_type": "code",
   "outputs": [],
   "execution_count": null,
   "source": "",
   "id": "8848ea65afaa1f08"
  }
 ],
 "metadata": {
  "kernelspec": {
   "display_name": "Python 3",
   "language": "python",
   "name": "python3"
  },
  "language_info": {
   "codemirror_mode": {
    "name": "ipython",
    "version": 2
   },
   "file_extension": ".py",
   "mimetype": "text/x-python",
   "name": "python",
   "nbconvert_exporter": "python",
   "pygments_lexer": "ipython2",
   "version": "2.7.6"
  }
 },
 "nbformat": 4,
 "nbformat_minor": 5
}
